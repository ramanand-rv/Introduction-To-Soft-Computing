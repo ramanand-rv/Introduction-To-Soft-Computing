{
 "cells": [
  {
   "cell_type": "markdown",
   "metadata": {},
   "source": [
    "# Expt 2"
   ]
  },
  {
   "cell_type": "markdown",
   "metadata": {},
   "source": [
    "## Aim: Implement Logical operations using Neural Network"
   ]
  },
  {
   "cell_type": "code",
   "execution_count": 3,
   "metadata": {},
   "outputs": [],
   "source": [
    "# Importing dependencies\n",
    "import numpy as np"
   ]
  },
  {
   "cell_type": "markdown",
   "metadata": {},
   "source": [
    "## AND Gate"
   ]
  },
  {
   "cell_type": "code",
   "execution_count": 31,
   "metadata": {},
   "outputs": [],
   "source": [
    "x = np.array([[0, 0], [0, 1], [1, 0], [1, 1]])\n",
    "w = np.array([1, 1])\n",
    "w = w.reshape((2, 1))\n",
    "b = -2"
   ]
  },
  {
   "cell_type": "code",
   "execution_count": 32,
   "metadata": {},
   "outputs": [],
   "source": [
    "# net = []\n",
    "def andg(x, w):\n",
    "    t = np.dot(x, w) + b\n",
    "    if t >= 0:\n",
    "        print(\"Input {} ==> Output: {}\".format(x, 1))\n",
    "    else:\n",
    "        print(\"Input {} ==> Output: {}\".format(x, 0))\n"
   ]
  },
  {
   "cell_type": "code",
   "execution_count": 33,
   "metadata": {},
   "outputs": [
    {
     "name": "stdout",
     "output_type": "stream",
     "text": [
      "Input [0 0] ==> Output: 0\n",
      "Input [0 1] ==> Output: 0\n",
      "Input [1 0] ==> Output: 0\n",
      "Input [1 1] ==> Output: 1\n"
     ]
    }
   ],
   "source": [
    "for i in range (4):\n",
    "    andg(x[i], w)"
   ]
  },
  {
   "cell_type": "markdown",
   "metadata": {},
   "source": [
    "# OR Gate"
   ]
  },
  {
   "cell_type": "code",
   "execution_count": 38,
   "metadata": {},
   "outputs": [],
   "source": [
    "x = np.array([[0, 0], [0, 1], [1, 0], [1, 1]])\n",
    "w = np.array([1, 1])\n",
    "w = w.reshape((2, 1))\n",
    "b = -1"
   ]
  },
  {
   "cell_type": "code",
   "execution_count": 39,
   "metadata": {},
   "outputs": [],
   "source": [
    "# net = []\n",
    "def org(x, w):\n",
    "    t = np.dot(x, w) + b\n",
    "    if t >= 0:\n",
    "        print(\"Input {} ==> Output: {}\".format(x, 1))\n",
    "    else:\n",
    "        print(\"Input {} ==> Output: {}\".format(x, 0))\n"
   ]
  },
  {
   "cell_type": "code",
   "execution_count": 40,
   "metadata": {},
   "outputs": [
    {
     "name": "stdout",
     "output_type": "stream",
     "text": [
      "Input [0 0] ==> Output: 0\n",
      "Input [0 1] ==> Output: 1\n",
      "Input [1 0] ==> Output: 1\n",
      "Input [1 1] ==> Output: 1\n"
     ]
    }
   ],
   "source": [
    "for i in range(4):\n",
    "    org(x[i], w)"
   ]
  },
  {
   "cell_type": "markdown",
   "metadata": {},
   "source": [
    "# NOT Gate"
   ]
  },
  {
   "cell_type": "code",
   "execution_count": 41,
   "metadata": {},
   "outputs": [],
   "source": [
    "x = np.array([[0], [1]])\n",
    "w = np.array([-1])\n",
    "b = 0"
   ]
  },
  {
   "cell_type": "code",
   "execution_count": 42,
   "metadata": {},
   "outputs": [],
   "source": [
    "def notg(x, w):\n",
    "    t = np.dot(x, w) + b\n",
    "    if t >= 0:\n",
    "        print(\"Input {} ==> Output: {}\".format(x, 1))\n",
    "    else:\n",
    "        print(\"Input {} ==> Output: {}\".format(x, 0))"
   ]
  },
  {
   "cell_type": "code",
   "execution_count": 44,
   "metadata": {},
   "outputs": [
    {
     "name": "stdout",
     "output_type": "stream",
     "text": [
      "Input [0] ==> Output: 1\n",
      "Input [1] ==> Output: 0\n"
     ]
    }
   ],
   "source": [
    "for i in range(2):\n",
    "    notg(x[i], w)"
   ]
  },
  {
   "cell_type": "markdown",
   "metadata": {},
   "source": [
    "# NAND Gate"
   ]
  },
  {
   "cell_type": "code",
   "execution_count": 79,
   "metadata": {},
   "outputs": [],
   "source": [
    "x = np.array([[0, 0], [0, 1], [1, 0], [1, 1]])\n",
    "w = np.array([-1, -1])\n",
    "w = w.reshape((2, 1))\n",
    "b = 0"
   ]
  },
  {
   "cell_type": "code",
   "execution_count": 80,
   "metadata": {},
   "outputs": [],
   "source": [
    "def nandg(x, w):\n",
    "    t = np.dot(x, w) + b\n",
    "    if t >= 0:\n",
    "        print(\"Input {} ==> Output: {}\".format(x, 1))\n",
    "    else:\n",
    "        print(\"Input {} ==> Output: {}\".format(x, 0))"
   ]
  },
  {
   "cell_type": "code",
   "execution_count": 81,
   "metadata": {},
   "outputs": [
    {
     "name": "stdout",
     "output_type": "stream",
     "text": [
      "Input [0 0] ==> Output: 1\n",
      "Input [0 1] ==> Output: 0\n",
      "Input [1 0] ==> Output: 0\n",
      "Input [1 1] ==> Output: 0\n"
     ]
    }
   ],
   "source": [
    "for i in range(4):\n",
    "    nandg(x[i], w)"
   ]
  },
  {
   "cell_type": "markdown",
   "metadata": {},
   "source": [
    "# NOR Gate"
   ]
  },
  {
   "cell_type": "code",
   "execution_count": 82,
   "metadata": {},
   "outputs": [],
   "source": [
    "x = np.array([[0, 0], [0, 1 ], [1, 0], [1, 1]])\n",
    "w = np.array([-1, -1])\n",
    "w = w.reshape((2, 1))\n",
    "b = 0"
   ]
  },
  {
   "cell_type": "code",
   "execution_count": 86,
   "metadata": {},
   "outputs": [],
   "source": [
    "def norg(x, w):\n",
    "    t = np.dot(x, w) + b\n",
    "    if t>=0:\n",
    "        print(\"Input {} ==> Output: {}\".format(x, 1))\n",
    "    else:\n",
    "        print(\"Input {} ==> Output: {}\".format(x, 0))"
   ]
  },
  {
   "cell_type": "code",
   "execution_count": 88,
   "metadata": {},
   "outputs": [
    {
     "name": "stdout",
     "output_type": "stream",
     "text": [
      "Input [0 0] ==> Output: 1\n",
      "Input [0 1] ==> Output: 0\n",
      "Input [1 0] ==> Output: 0\n",
      "Input [1 1] ==> Output: 0\n"
     ]
    }
   ],
   "source": [
    "for i in range(4):\n",
    "    norg(x[i], w)"
   ]
  },
  {
   "cell_type": "markdown",
   "metadata": {},
   "source": [
    "## Conclusion: Different logical operations were successfully implemented using Neural Network"
   ]
  },
  {
   "cell_type": "code",
   "execution_count": null,
   "metadata": {},
   "outputs": [],
   "source": []
  }
 ],
 "metadata": {
  "interpreter": {
   "hash": "7bb86b0b182b4aa158bb4df4d3b9bc36c4b1b3e9626f37ea630c0865e112ae51"
  },
  "kernelspec": {
   "display_name": "Python 3.9.6 64-bit",
   "name": "python3"
  },
  "language_info": {
   "codemirror_mode": {
    "name": "ipython",
    "version": 3
   },
   "file_extension": ".py",
   "mimetype": "text/x-python",
   "name": "python",
   "nbconvert_exporter": "python",
   "pygments_lexer": "ipython3",
   "version": "3.9.6"
  },
  "orig_nbformat": 4
 },
 "nbformat": 4,
 "nbformat_minor": 2
}
