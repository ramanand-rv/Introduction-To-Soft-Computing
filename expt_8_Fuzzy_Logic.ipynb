{
 "cells": [
  {
   "cell_type": "markdown",
   "metadata": {},
   "source": [
    "# Expt 8"
   ]
  },
  {
   "cell_type": "markdown",
   "metadata": {},
   "source": [
    "## Aim: Implement Tipping problem using Fuzzy Logic"
   ]
  },
  {
   "cell_type": "code",
   "execution_count": 6,
   "metadata": {
    "colab": {
     "base_uri": "https://localhost:8080/"
    },
    "executionInfo": {
     "elapsed": 5642,
     "status": "ok",
     "timestamp": 1640519877537,
     "user": {
      "displayName": "G 9",
      "photoUrl": "https://lh3.googleusercontent.com/a-/AOh14GhgrKkk1q4AMmD4AqnsgeyDcbSIdUTlwLiBFN2b=s64",
      "userId": "11449870575762851973"
     },
     "user_tz": -330
    },
    "id": "OstPmUKemCKC",
    "outputId": "b5c30744-bda5-43c2-b54b-5b6424f8ddb2"
   },
   "outputs": [
    {
     "name": "stdout",
     "output_type": "stream",
     "text": [
      "Collecting scikit-fuzzy\n",
      "  Downloading scikit-fuzzy-0.4.2.tar.gz (993 kB)\n",
      "\u001b[?25l\r",
      "\u001b[K     |▎                               | 10 kB 19.5 MB/s eta 0:00:01\r",
      "\u001b[K     |▋                               | 20 kB 25.4 MB/s eta 0:00:01\r",
      "\u001b[K     |█                               | 30 kB 19.7 MB/s eta 0:00:01\r",
      "\u001b[K     |█▎                              | 40 kB 16.2 MB/s eta 0:00:01\r",
      "\u001b[K     |█▋                              | 51 kB 9.0 MB/s eta 0:00:01\r",
      "\u001b[K     |██                              | 61 kB 9.0 MB/s eta 0:00:01\r",
      "\u001b[K     |██▎                             | 71 kB 9.1 MB/s eta 0:00:01\r",
      "\u001b[K     |██▋                             | 81 kB 10.1 MB/s eta 0:00:01\r",
      "\u001b[K     |███                             | 92 kB 10.3 MB/s eta 0:00:01\r",
      "\u001b[K     |███▎                            | 102 kB 8.6 MB/s eta 0:00:01\r",
      "\u001b[K     |███▋                            | 112 kB 8.6 MB/s eta 0:00:01\r",
      "\u001b[K     |████                            | 122 kB 8.6 MB/s eta 0:00:01\r",
      "\u001b[K     |████▎                           | 133 kB 8.6 MB/s eta 0:00:01\r",
      "\u001b[K     |████▋                           | 143 kB 8.6 MB/s eta 0:00:01\r",
      "\u001b[K     |█████                           | 153 kB 8.6 MB/s eta 0:00:01\r",
      "\u001b[K     |█████▎                          | 163 kB 8.6 MB/s eta 0:00:01\r",
      "\u001b[K     |█████▋                          | 174 kB 8.6 MB/s eta 0:00:01\r",
      "\u001b[K     |██████                          | 184 kB 8.6 MB/s eta 0:00:01\r",
      "\u001b[K     |██████▎                         | 194 kB 8.6 MB/s eta 0:00:01\r",
      "\u001b[K     |██████▋                         | 204 kB 8.6 MB/s eta 0:00:01\r",
      "\u001b[K     |███████                         | 215 kB 8.6 MB/s eta 0:00:01\r",
      "\u001b[K     |███████▎                        | 225 kB 8.6 MB/s eta 0:00:01\r",
      "\u001b[K     |███████▋                        | 235 kB 8.6 MB/s eta 0:00:01\r",
      "\u001b[K     |████████                        | 245 kB 8.6 MB/s eta 0:00:01\r",
      "\u001b[K     |████████▎                       | 256 kB 8.6 MB/s eta 0:00:01\r",
      "\u001b[K     |████████▋                       | 266 kB 8.6 MB/s eta 0:00:01\r",
      "\u001b[K     |█████████                       | 276 kB 8.6 MB/s eta 0:00:01\r",
      "\u001b[K     |█████████▎                      | 286 kB 8.6 MB/s eta 0:00:01\r",
      "\u001b[K     |█████████▋                      | 296 kB 8.6 MB/s eta 0:00:01\r",
      "\u001b[K     |██████████                      | 307 kB 8.6 MB/s eta 0:00:01\r",
      "\u001b[K     |██████████▏                     | 317 kB 8.6 MB/s eta 0:00:01\r",
      "\u001b[K     |██████████▌                     | 327 kB 8.6 MB/s eta 0:00:01\r",
      "\u001b[K     |██████████▉                     | 337 kB 8.6 MB/s eta 0:00:01\r",
      "\u001b[K     |███████████▏                    | 348 kB 8.6 MB/s eta 0:00:01\r",
      "\u001b[K     |███████████▌                    | 358 kB 8.6 MB/s eta 0:00:01\r",
      "\u001b[K     |███████████▉                    | 368 kB 8.6 MB/s eta 0:00:01\r",
      "\u001b[K     |████████████▏                   | 378 kB 8.6 MB/s eta 0:00:01\r",
      "\u001b[K     |████████████▌                   | 389 kB 8.6 MB/s eta 0:00:01\r",
      "\u001b[K     |████████████▉                   | 399 kB 8.6 MB/s eta 0:00:01\r",
      "\u001b[K     |█████████████▏                  | 409 kB 8.6 MB/s eta 0:00:01\r",
      "\u001b[K     |█████████████▌                  | 419 kB 8.6 MB/s eta 0:00:01\r",
      "\u001b[K     |█████████████▉                  | 430 kB 8.6 MB/s eta 0:00:01\r",
      "\u001b[K     |██████████████▏                 | 440 kB 8.6 MB/s eta 0:00:01\r",
      "\u001b[K     |██████████████▌                 | 450 kB 8.6 MB/s eta 0:00:01\r",
      "\u001b[K     |██████████████▉                 | 460 kB 8.6 MB/s eta 0:00:01\r",
      "\u001b[K     |███████████████▏                | 471 kB 8.6 MB/s eta 0:00:01\r",
      "\u001b[K     |███████████████▌                | 481 kB 8.6 MB/s eta 0:00:01\r",
      "\u001b[K     |███████████████▉                | 491 kB 8.6 MB/s eta 0:00:01\r",
      "\u001b[K     |████████████████▏               | 501 kB 8.6 MB/s eta 0:00:01\r",
      "\u001b[K     |████████████████▌               | 512 kB 8.6 MB/s eta 0:00:01\r",
      "\u001b[K     |████████████████▉               | 522 kB 8.6 MB/s eta 0:00:01\r",
      "\u001b[K     |█████████████████▏              | 532 kB 8.6 MB/s eta 0:00:01\r",
      "\u001b[K     |█████████████████▌              | 542 kB 8.6 MB/s eta 0:00:01\r",
      "\u001b[K     |█████████████████▉              | 552 kB 8.6 MB/s eta 0:00:01\r",
      "\u001b[K     |██████████████████▏             | 563 kB 8.6 MB/s eta 0:00:01\r",
      "\u001b[K     |██████████████████▌             | 573 kB 8.6 MB/s eta 0:00:01\r",
      "\u001b[K     |██████████████████▉             | 583 kB 8.6 MB/s eta 0:00:01\r",
      "\u001b[K     |███████████████████▏            | 593 kB 8.6 MB/s eta 0:00:01\r",
      "\u001b[K     |███████████████████▌            | 604 kB 8.6 MB/s eta 0:00:01\r",
      "\u001b[K     |███████████████████▉            | 614 kB 8.6 MB/s eta 0:00:01\r",
      "\u001b[K     |████████████████████            | 624 kB 8.6 MB/s eta 0:00:01\r",
      "\u001b[K     |████████████████████▍           | 634 kB 8.6 MB/s eta 0:00:01\r",
      "\u001b[K     |████████████████████▊           | 645 kB 8.6 MB/s eta 0:00:01\r",
      "\u001b[K     |█████████████████████           | 655 kB 8.6 MB/s eta 0:00:01\r",
      "\u001b[K     |█████████████████████▍          | 665 kB 8.6 MB/s eta 0:00:01\r",
      "\u001b[K     |█████████████████████▊          | 675 kB 8.6 MB/s eta 0:00:01\r",
      "\u001b[K     |██████████████████████          | 686 kB 8.6 MB/s eta 0:00:01\r",
      "\u001b[K     |██████████████████████▍         | 696 kB 8.6 MB/s eta 0:00:01\r",
      "\u001b[K     |██████████████████████▊         | 706 kB 8.6 MB/s eta 0:00:01\r",
      "\u001b[K     |███████████████████████         | 716 kB 8.6 MB/s eta 0:00:01\r",
      "\u001b[K     |███████████████████████▍        | 727 kB 8.6 MB/s eta 0:00:01\r",
      "\u001b[K     |███████████████████████▊        | 737 kB 8.6 MB/s eta 0:00:01\r",
      "\u001b[K     |████████████████████████        | 747 kB 8.6 MB/s eta 0:00:01\r",
      "\u001b[K     |████████████████████████▍       | 757 kB 8.6 MB/s eta 0:00:01\r",
      "\u001b[K     |████████████████████████▊       | 768 kB 8.6 MB/s eta 0:00:01\r",
      "\u001b[K     |█████████████████████████       | 778 kB 8.6 MB/s eta 0:00:01\r",
      "\u001b[K     |█████████████████████████▍      | 788 kB 8.6 MB/s eta 0:00:01\r",
      "\u001b[K     |█████████████████████████▊      | 798 kB 8.6 MB/s eta 0:00:01\r",
      "\u001b[K     |██████████████████████████      | 808 kB 8.6 MB/s eta 0:00:01\r",
      "\u001b[K     |██████████████████████████▍     | 819 kB 8.6 MB/s eta 0:00:01\r",
      "\u001b[K     |██████████████████████████▊     | 829 kB 8.6 MB/s eta 0:00:01\r",
      "\u001b[K     |███████████████████████████     | 839 kB 8.6 MB/s eta 0:00:01\r",
      "\u001b[K     |███████████████████████████▍    | 849 kB 8.6 MB/s eta 0:00:01\r",
      "\u001b[K     |███████████████████████████▊    | 860 kB 8.6 MB/s eta 0:00:01\r",
      "\u001b[K     |████████████████████████████    | 870 kB 8.6 MB/s eta 0:00:01\r",
      "\u001b[K     |████████████████████████████▍   | 880 kB 8.6 MB/s eta 0:00:01\r",
      "\u001b[K     |████████████████████████████▊   | 890 kB 8.6 MB/s eta 0:00:01\r",
      "\u001b[K     |█████████████████████████████   | 901 kB 8.6 MB/s eta 0:00:01\r",
      "\u001b[K     |█████████████████████████████▍  | 911 kB 8.6 MB/s eta 0:00:01\r",
      "\u001b[K     |█████████████████████████████▊  | 921 kB 8.6 MB/s eta 0:00:01\r",
      "\u001b[K     |██████████████████████████████  | 931 kB 8.6 MB/s eta 0:00:01\r",
      "\u001b[K     |██████████████████████████████▎ | 942 kB 8.6 MB/s eta 0:00:01\r",
      "\u001b[K     |██████████████████████████████▋ | 952 kB 8.6 MB/s eta 0:00:01\r",
      "\u001b[K     |███████████████████████████████ | 962 kB 8.6 MB/s eta 0:00:01\r",
      "\u001b[K     |███████████████████████████████▎| 972 kB 8.6 MB/s eta 0:00:01\r",
      "\u001b[K     |███████████████████████████████▋| 983 kB 8.6 MB/s eta 0:00:01\r",
      "\u001b[K     |████████████████████████████████| 993 kB 8.6 MB/s eta 0:00:01\r",
      "\u001b[K     |████████████████████████████████| 993 kB 8.6 MB/s \n",
      "\u001b[?25hRequirement already satisfied: numpy>=1.6.0 in /usr/local/lib/python3.7/dist-packages (from scikit-fuzzy) (1.19.5)\n",
      "Requirement already satisfied: scipy>=0.9.0 in /usr/local/lib/python3.7/dist-packages (from scikit-fuzzy) (1.4.1)\n",
      "Requirement already satisfied: networkx>=1.9.0 in /usr/local/lib/python3.7/dist-packages (from scikit-fuzzy) (2.6.3)\n",
      "Building wheels for collected packages: scikit-fuzzy\n",
      "  Building wheel for scikit-fuzzy (setup.py) ... \u001b[?25l\u001b[?25hdone\n",
      "  Created wheel for scikit-fuzzy: filename=scikit_fuzzy-0.4.2-py3-none-any.whl size=894089 sha256=d6d686ad4845bc89fdfc8bf808db46d0e4a7ee0e941a1bf30c4101e4ee7ab2f0\n",
      "  Stored in directory: /root/.cache/pip/wheels/d5/74/fc/38588a3d2e3f34f74588e6daa3aa5b0a322bd6f9420a707131\n",
      "Successfully built scikit-fuzzy\n",
      "Installing collected packages: scikit-fuzzy\n",
      "Successfully installed scikit-fuzzy-0.4.2\n"
     ]
    }
   ],
   "source": [
    "!pip install -U scikit-fuzzy"
   ]
  },
  {
   "cell_type": "code",
   "execution_count": 40,
   "metadata": {
    "executionInfo": {
     "elapsed": 696,
     "status": "ok",
     "timestamp": 1640522212661,
     "user": {
      "displayName": "G 9",
      "photoUrl": "https://lh3.googleusercontent.com/a-/AOh14GhgrKkk1q4AMmD4AqnsgeyDcbSIdUTlwLiBFN2b=s64",
      "userId": "11449870575762851973"
     },
     "user_tz": -330
    },
    "id": "nYYxiCe_jukB"
   },
   "outputs": [],
   "source": [
    "import numpy as np\n",
    "import skfuzzy as fuzz\n",
    "from skfuzzy import control as ctrl"
   ]
  },
  {
   "cell_type": "code",
   "execution_count": 41,
   "metadata": {
    "executionInfo": {
     "elapsed": 10,
     "status": "ok",
     "timestamp": 1640522213833,
     "user": {
      "displayName": "G 9",
      "photoUrl": "https://lh3.googleusercontent.com/a-/AOh14GhgrKkk1q4AMmD4AqnsgeyDcbSIdUTlwLiBFN2b=s64",
      "userId": "11449870575762851973"
     },
     "user_tz": -330
    },
    "id": "xLDmHAjDl_m5"
   },
   "outputs": [],
   "source": [
    "# Antecedants\n",
    "quality = ctrl.Antecedent(np.arange(0, 11), 'quality')\n",
    "service = ctrl.Antecedent(np.arange(0, 11), 'service')\n",
    "\n",
    "# Auto mf\n",
    "quality.automf(3)\n",
    "service.automf(3)\n",
    "\n",
    "\n",
    "# Consequent\n",
    "tip = ctrl.Consequent(np.arange(0, 26), 'tip')\n",
    "\n",
    "# membership function\n",
    "tip['low'] = fuzz.trimf(tip.universe, [0, 0, 13])\n",
    "tip['medium'] = fuzz.trimf(tip.universe, [0, 13, 25])\n",
    "tip['high'] = fuzz.trimf(tip.universe, [13, 25, 25])"
   ]
  },
  {
   "cell_type": "code",
   "execution_count": 42,
   "metadata": {
    "colab": {
     "base_uri": "https://localhost:8080/",
     "height": 281
    },
    "executionInfo": {
     "elapsed": 10,
     "status": "ok",
     "timestamp": 1640522213834,
     "user": {
      "displayName": "G 9",
      "photoUrl": "https://lh3.googleusercontent.com/a-/AOh14GhgrKkk1q4AMmD4AqnsgeyDcbSIdUTlwLiBFN2b=s64",
      "userId": "11449870575762851973"
     },
     "user_tz": -330
    },
    "id": "GXmGJYOXq2Yl",
    "outputId": "27dc392e-b7f6-4c48-9e6e-9095e1bfb321"
   },
   "outputs": [
    {
     "data": {
      "image/png": "[encoded data removed]",
      "text/plain": [
       "<Figure size 432x288 with 1 Axes>"
      ]
     },
     "metadata": {
      "needs_background": "light"
     },
     "output_type": "display_data"
    }
   ],
   "source": [
    "quality.view()"
   ]
  },
  {
   "cell_type": "code",
   "execution_count": 43,
   "metadata": {
    "colab": {
     "base_uri": "https://localhost:8080/",
     "height": 281
    },
    "executionInfo": {
     "elapsed": 9,
     "status": "ok",
     "timestamp": 1640522213835,
     "user": {
      "displayName": "G 9",
      "photoUrl": "https://lh3.googleusercontent.com/a-/AOh14GhgrKkk1q4AMmD4AqnsgeyDcbSIdUTlwLiBFN2b=s64",
      "userId": "11449870575762851973"
     },
     "user_tz": -330
    },
    "id": "FayikTJvq6Ne",
    "outputId": "2099d58f-5236-4ad6-f525-c666d7ae44e9"
   },
   "outputs": [
    {
     "data": {
      "image/png": "[encoded data removed]",
      "text/plain": [
       "<Figure size 432x288 with 1 Axes>"
      ]
     },
     "metadata": {
      "needs_background": "light"
     },
     "output_type": "display_data"
    }
   ],
   "source": [
    "service.view()"
   ]
  },
  {
   "cell_type": "code",
   "execution_count": 44,
   "metadata": {
    "executionInfo": {
     "elapsed": 9,
     "status": "ok",
     "timestamp": 1640522213836,
     "user": {
      "displayName": "G 9",
      "photoUrl": "https://lh3.googleusercontent.com/a-/AOh14GhgrKkk1q4AMmD4AqnsgeyDcbSIdUTlwLiBFN2b=s64",
      "userId": "11449870575762851973"
     },
     "user_tz": -330
    },
    "id": "AStkPnGwrYit"
   },
   "outputs": [],
   "source": [
    "rule1 = ctrl.Rule(quality['poor'] | service['poor'], tip['low'])\n",
    "rule2 = ctrl.Rule(service['average'], tip['medium'])\n",
    "rule3 = ctrl.Rule(quality['good'] | service['good'], tip['high'])"
   ]
  },
  {
   "cell_type": "code",
   "execution_count": 45,
   "metadata": {
    "executionInfo": {
     "elapsed": 8,
     "status": "ok",
     "timestamp": 1640522213836,
     "user": {
      "displayName": "G 9",
      "photoUrl": "https://lh3.googleusercontent.com/a-/AOh14GhgrKkk1q4AMmD4AqnsgeyDcbSIdUTlwLiBFN2b=s64",
      "userId": "11449870575762851973"
     },
     "user_tz": -330
    },
    "id": "Gz_BFCA4sgxd"
   },
   "outputs": [],
   "source": [
    "tipping_ctrl = ctrl.ControlSystem({rule1, rule2, rule3})"
   ]
  },
  {
   "cell_type": "code",
   "execution_count": 46,
   "metadata": {
    "executionInfo": {
     "elapsed": 9,
     "status": "ok",
     "timestamp": 1640522214956,
     "user": {
      "displayName": "G 9",
      "photoUrl": "https://lh3.googleusercontent.com/a-/AOh14GhgrKkk1q4AMmD4AqnsgeyDcbSIdUTlwLiBFN2b=s64",
      "userId": "11449870575762851973"
     },
     "user_tz": -330
    },
    "id": "VBEQV1MxtiWM"
   },
   "outputs": [],
   "source": [
    "tipping = ctrl.ControlSystemSimulation(tipping_ctrl)"
   ]
  },
  {
   "cell_type": "code",
   "execution_count": 47,
   "metadata": {
    "executionInfo": {
     "elapsed": 9,
     "status": "ok",
     "timestamp": 1640522214957,
     "user": {
      "displayName": "G 9",
      "photoUrl": "https://lh3.googleusercontent.com/a-/AOh14GhgrKkk1q4AMmD4AqnsgeyDcbSIdUTlwLiBFN2b=s64",
      "userId": "11449870575762851973"
     },
     "user_tz": -330
    },
    "id": "iKtWpmFMtwj7"
   },
   "outputs": [],
   "source": [
    "# Test values\n",
    "tipping.input['quality'] = 9.9\n",
    "tipping.input['service'] = 5.5\n",
    "\n",
    "tipping.compute()\n"
   ]
  },
  {
   "cell_type": "code",
   "execution_count": 48,
   "metadata": {
    "colab": {
     "base_uri": "https://localhost:8080/",
     "height": 298
    },
    "executionInfo": {
     "elapsed": 8,
     "status": "ok",
     "timestamp": 1640522214957,
     "user": {
      "displayName": "G 9",
      "photoUrl": "https://lh3.googleusercontent.com/a-/AOh14GhgrKkk1q4AMmD4AqnsgeyDcbSIdUTlwLiBFN2b=s64",
      "userId": "11449870575762851973"
     },
     "user_tz": -330
    },
    "id": "-Q3dyNJWuLjT",
    "outputId": "49e165c6-93fb-4431-a167-3e9461d7fb21"
   },
   "outputs": [
    {
     "name": "stdout",
     "output_type": "stream",
     "text": [
      "14.678889192459314\n"
     ]
    },
    {
     "data": {
      "image/png": "[encoded data removed]",
      "text/plain": [
       "<Figure size 432x288 with 1 Axes>"
      ]
     },
     "metadata": {
      "needs_background": "light"
     },
     "output_type": "display_data"
    }
   ],
   "source": [
    "print(tipping.output['tip'])\n",
    "tip.view(sim = tipping)"
   ]
  },
  {
   "cell_type": "markdown",
   "metadata": {
    "executionInfo": {
     "elapsed": 6,
     "status": "ok",
     "timestamp": 1640522214958,
     "user": {
      "displayName": "G 9",
      "photoUrl": "https://lh3.googleusercontent.com/a-/AOh14GhgrKkk1q4AMmD4AqnsgeyDcbSIdUTlwLiBFN2b=s64",
      "userId": "11449870575762851973"
     },
     "user_tz": -330
    },
    "id": "t8LOLFAXup87"
   },
   "source": [
    "## Conclusion: Tipping problem was successfully studied and implemented."
   ]
  },
  {
   "cell_type": "code",
   "execution_count": null,
   "metadata": {},
   "outputs": [],
   "source": []
  }
 ],
 "metadata": {
  "colab": {
   "authorship_tag": "ABX9TyPBgLLDFGZAc9dIze8OS/kw",
   "collapsed_sections": [],
   "name": "Fuzzy Expt.ipynb",
   "provenance": []
  },
  "kernelspec": {
   "display_name": "Python 3 (ipykernel)",
   "language": "python",
   "name": "python3"
  },
  "language_info": {
   "codemirror_mode": {
    "name": "ipython",
    "version": 3
   },
   "file_extension": ".py",
   "mimetype": "text/x-python",
   "name": "python",
   "nbconvert_exporter": "python",
   "pygments_lexer": "ipython3",
   "version": "3.9.6"
  }
 },
 "nbformat": 4,
 "nbformat_minor": 1
}
