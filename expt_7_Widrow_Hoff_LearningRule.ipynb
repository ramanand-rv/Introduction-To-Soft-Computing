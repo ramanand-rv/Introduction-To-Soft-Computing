{
 "cells": [
  {
   "cell_type": "markdown",
   "metadata": {},
   "source": [
    "# Expt 7"
   ]
  },
  {
   "cell_type": "markdown",
   "metadata": {},
   "source": [
    "## Aim: Implement Widrow Hoff Learning Rule "
   ]
  },
  {
   "cell_type": "code",
   "execution_count": 2,
   "metadata": {
    "executionInfo": {
     "elapsed": 2,
     "status": "ok",
     "timestamp": 1640514230157,
     "user": {
      "displayName": "G 9",
      "photoUrl": "https://lh3.googleusercontent.com/a-/AOh14GhgrKkk1q4AMmD4AqnsgeyDcbSIdUTlwLiBFN2b=s64",
      "userId": "11449870575762851973"
     },
     "user_tz": -330
    },
    "id": "wLPo5x844Pvr"
   },
   "outputs": [],
   "source": [
    "import numpy as np"
   ]
  },
  {
   "cell_type": "code",
   "execution_count": 11,
   "metadata": {
    "executionInfo": {
     "elapsed": 6,
     "status": "ok",
     "timestamp": 1640515292902,
     "user": {
      "displayName": "G 9",
      "photoUrl": "https://lh3.googleusercontent.com/a-/AOh14GhgrKkk1q4AMmD4AqnsgeyDcbSIdUTlwLiBFN2b=s64",
      "userId": "11449870575762851973"
     },
     "user_tz": -330
    },
    "id": "qFs4VebcRJJq"
   },
   "outputs": [],
   "source": [
    "X = np.array([[0, 1, 1, 1],\n",
    "              [1, 0, 1, 0],\n",
    "              [0, 1, 1, 0], \n",
    "              [1, 1, 1, 1]\n",
    "              ])\n",
    "\n",
    "W = np.random.randint(-1, 2, (4), dtype='int64')\n",
    "W = np.array(W, dtype='float')\n",
    "W = W.T\n",
    "\n",
    "Y = np.array([0, 1, 0, 1])\n",
    "\n",
    "C = 0.5;\n",
    "epoch = 30"
   ]
  },
  {
   "cell_type": "code",
   "execution_count": 12,
   "metadata": {
    "colab": {
     "base_uri": "https://localhost:8080/"
    },
    "executionInfo": {
     "elapsed": 6,
     "status": "ok",
     "timestamp": 1640515292904,
     "user": {
      "displayName": "G 9",
      "photoUrl": "https://lh3.googleusercontent.com/a-/AOh14GhgrKkk1q4AMmD4AqnsgeyDcbSIdUTlwLiBFN2b=s64",
      "userId": "11449870575762851973"
     },
     "user_tz": -330
    },
    "id": "OX7TcufjTYCQ",
    "outputId": "1b4f5943-2c7f-4e07-9e7d-178545439a47"
   },
   "outputs": [
    {
     "name": "stdout",
     "output_type": "stream",
     "text": [
      "\n",
      "End of Epoch -> 0\n",
      "[ 1.25  0.5  -1.   -0.25]\n",
      "\n",
      "End of Epoch -> 1\n",
      "[ 1.15625  0.375   -0.9375  -0.15625]\n",
      "\n",
      "End of Epoch -> 2\n",
      "[ 1.08203125  0.265625   -0.8359375  -0.08203125]\n",
      "\n",
      "End of Epoch -> 3\n",
      "[ 1.02587891  0.17382812 -0.71386719 -0.02587891]\n",
      "\n",
      "End of Epoch -> 4\n",
      "[ 0.98565674  0.09985352 -0.58532715  0.01434326]\n",
      "\n",
      "End of Epoch -> 5\n",
      "[ 0.95890045  0.04275513 -0.46037292  0.04109955]\n",
      "\n",
      "End of Epoch -> 6\n",
      "[ 9.43074226e-01  8.27789307e-04 -3.45693588e-01  5.69257736e-02]\n",
      "\n",
      "End of Epoch -> 7\n",
      "[ 0.93575156 -0.02804899 -0.2452457   0.06424844]\n",
      "\n",
      "End of Epoch -> 8\n",
      "[ 0.93473275 -0.04614872 -0.16085991  0.06526725]\n",
      "\n",
      "End of Epoch -> 9\n",
      "[ 0.93811152 -0.05570798 -0.09279094  0.06188848]\n",
      "\n",
      "End of Epoch -> 10\n",
      "[ 0.94430246 -0.05879823 -0.04019409  0.05569754]\n",
      "\n",
      "End of Epoch -> 11\n",
      "[ 0.95203982 -0.05724789 -0.00152163  0.04796018]\n",
      "\n",
      "End of Epoch -> 12\n",
      "[ 0.96035677 -0.05260403  0.0251608   0.03964323]\n",
      "\n",
      "End of Epoch -> 13\n",
      "[ 0.96855238 -0.04612363  0.04193241  0.03144762]\n",
      "\n",
      "End of Epoch -> 14\n",
      "[ 0.97615233 -0.03878563  0.05084212  0.02384767]\n",
      "\n",
      "End of Epoch -> 15\n",
      "[ 0.98286778 -0.03131665  0.05378991  0.01713222]\n",
      "\n",
      "End of Epoch -> 16\n",
      "[ 0.98855541 -0.02422443  0.05245465  0.01144459]\n",
      "\n",
      "End of Epoch -> 17\n",
      "[ 0.99318095 -0.01783451  0.04825824  0.00681905]\n",
      "\n",
      "End of Epoch -> 18\n",
      "[ 0.9967872  -0.01232678  0.04235707  0.0032128 ]\n",
      "\n",
      "End of Epoch -> 19\n",
      "[ 9.99467290e-01 -7.76979213e-03  3.56527004e-02  5.32710047e-04]\n",
      "\n",
      "End of Epoch -> 20\n",
      "[ 1.00134315 -0.00415125  0.02881515 -0.00134315]\n",
      "\n",
      "End of Epoch -> 21\n",
      "[ 1.00254886 -0.00140405  0.02231339 -0.00254886]\n",
      "\n",
      "End of Epoch -> 22\n",
      "[ 1.00321848e+00  5.72402363e-04  1.64488403e-02 -3.21847534e-03]\n",
      "\n",
      "End of Epoch -> 23\n",
      "[ 1.00347768  0.00189544  0.01138891 -0.00347768]\n",
      "\n",
      "End of Epoch -> 24\n",
      "[ 1.00343853  0.00268656  0.0071984  -0.00343853]\n",
      "\n",
      "End of Epoch -> 25\n",
      "[ 1.00319671  0.00306255  0.00386753 -0.00319671]\n",
      "\n",
      "End of Epoch -> 26\n",
      "[ 1.00283066  0.00312963  0.00133583 -0.00283066]\n",
      "\n",
      "End of Epoch -> 27\n",
      "[ 1.00240209e+00  2.98014660e-03 -4.88200217e-04 -2.40208880e-03]\n",
      "\n",
      "End of Epoch -> 28\n",
      "[ 1.00195731  0.00269112 -0.00171171 -0.00195731]\n",
      "\n",
      "End of Epoch -> 29\n",
      "[ 1.0015292   0.00232422 -0.00244589 -0.0015292 ]\n"
     ]
    }
   ],
   "source": [
    "for t in range(epoch):\n",
    "  for (i, x) in enumerate(X):\n",
    "    y = Y[i]\n",
    "    net = np.dot(x, W)\n",
    "    delW = C*(np.dot((y - net), x))\n",
    "    W += delW\n",
    "\n",
    "  print(f\"\\nEnd of Epoch -> {t}\")\n",
    "  print(W)"
   ]
  },
  {
   "cell_type": "markdown",
   "metadata": {
    "id": "6NW8XySSVQBJ"
   },
   "source": [
    "## The trained weights are:\n",
    "## [ 1.0015292,   0.00232422, -0.00244589, -0.0015292 ]"
   ]
  },
  {
   "cell_type": "code",
   "execution_count": 3,
   "metadata": {
    "executionInfo": {
     "elapsed": 2,
     "status": "ok",
     "timestamp": 1640515426172,
     "user": {
      "displayName": "G 9",
      "photoUrl": "https://lh3.googleusercontent.com/a-/AOh14GhgrKkk1q4AMmD4AqnsgeyDcbSIdUTlwLiBFN2b=s64",
      "userId": "11449870575762851973"
     },
     "user_tz": -330
    },
    "id": "ke2ZVFDiUja5"
   },
   "outputs": [],
   "source": [
    "# Test inputs\n",
    "x1 = np.array([1, 0, 0, 0])\n",
    "x2 = np.array([0, 0, 0, 0])\n",
    "\n",
    "trainedW = [ 1.0015292, 0.00232422, -0.00244589, -0.0015292 ]"
   ]
  },
  {
   "cell_type": "code",
   "execution_count": 4,
   "metadata": {
    "colab": {
     "base_uri": "https://localhost:8080/"
    },
    "executionInfo": {
     "elapsed": 450,
     "status": "ok",
     "timestamp": 1640515464068,
     "user": {
      "displayName": "G 9",
      "photoUrl": "https://lh3.googleusercontent.com/a-/AOh14GhgrKkk1q4AMmD4AqnsgeyDcbSIdUTlwLiBFN2b=s64",
      "userId": "11449870575762851973"
     },
     "user_tz": -330
    },
    "id": "YHje69y_Vs_t",
    "outputId": "bc7f53ee-9824-4664-8d26-8c19958c41b1"
   },
   "outputs": [
    {
     "name": "stdout",
     "output_type": "stream",
     "text": [
      "1.0015292\n",
      "Expected Output: 1\n"
     ]
    }
   ],
   "source": [
    "# test 1\n",
    "Y1 = np.dot(x1, trainedW)\n",
    "\n",
    "print(Y1)\n",
    "print(\"Expected Output: 1\")"
   ]
  },
  {
   "cell_type": "code",
   "execution_count": 5,
   "metadata": {
    "colab": {
     "base_uri": "https://localhost:8080/"
    },
    "executionInfo": {
     "elapsed": 454,
     "status": "ok",
     "timestamp": 1640515521983,
     "user": {
      "displayName": "G 9",
      "photoUrl": "https://lh3.googleusercontent.com/a-/AOh14GhgrKkk1q4AMmD4AqnsgeyDcbSIdUTlwLiBFN2b=s64",
      "userId": "11449870575762851973"
     },
     "user_tz": -330
    },
    "id": "C7NWIYi6Vz7g",
    "outputId": "805f002f-e622-4061-d82b-36a4ed1346c0"
   },
   "outputs": [
    {
     "name": "stdout",
     "output_type": "stream",
     "text": [
      "0.0\n",
      "Expected Output: 0\n"
     ]
    }
   ],
   "source": [
    "# test 2\n",
    "Y2 = np.dot(x2, trainedW)\n",
    "\n",
    "print(Y2)\n",
    "print(\"Expected Output: 0\")"
   ]
  },
  {
   "cell_type": "code",
   "execution_count": null,
   "metadata": {
    "id": "amNZngW5WCFw"
   },
   "outputs": [],
   "source": []
  },
  {
   "cell_type": "markdown",
   "metadata": {},
   "source": [
    "## Conclusion:\n",
    "## Widrow Hoff Learning rule was successfully studied and implemented."
   ]
  }
 ],
 "metadata": {
  "colab": {
   "authorship_tag": "ABX9TyPtFci51VujOXe7nWgey00I",
   "collapsed_sections": [],
   "name": "Widrow Hoff Learning Rule.ipynb",
   "provenance": []
  },
  "kernelspec": {
   "display_name": "Python 3 (ipykernel)",
   "language": "python",
   "name": "python3"
  },
  "language_info": {
   "codemirror_mode": {
    "name": "ipython",
    "version": 3
   },
   "file_extension": ".py",
   "mimetype": "text/x-python",
   "name": "python",
   "nbconvert_exporter": "python",
   "pygments_lexer": "ipython3",
   "version": "3.9.6"
  }
 },
 "nbformat": 4,
 "nbformat_minor": 1
}
