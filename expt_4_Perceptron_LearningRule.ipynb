{
 "cells": [
  {
   "cell_type": "markdown",
   "metadata": {
    "id": "YLNu8XxpdK7S"
   },
   "source": [
    "# Expt 4\n",
    "## Aim: Implement Perceptron Learning Rule"
   ]
  },
  {
   "cell_type": "code",
   "execution_count": 2,
   "metadata": {
    "id": "HQMDFogUdK7X"
   },
   "outputs": [],
   "source": [
    "import numpy as np\n",
    "import pandas as pd"
   ]
  },
  {
   "cell_type": "code",
   "execution_count": 3,
   "metadata": {
    "id": "6llbkM2IdK7Z"
   },
   "outputs": [],
   "source": [
    "X= np.array([ [1, -2, 0, -1], [0, 1.5, -0.5, -1], [-1, 1, 0.5, -1] ])\n",
    "W = np.array([1, -1, 0, 0.5])\n",
    "W = W.T\n",
    "Y = np.array([-1, -1, 1])\n",
    "b = 0\n",
    "epoch = 5\n",
    "error = []\n",
    "\n",
    "c = 0.1"
   ]
  },
  {
   "cell_type": "code",
   "execution_count": 4,
   "metadata": {
    "colab": {
     "base_uri": "https://localhost:8080/"
    },
    "id": "GEjLQayWdK7Z",
    "outputId": "a3219a29-dec2-474d-9e55-1806f5320fdc"
   },
   "outputs": [
    {
     "name": "stdout",
     "output_type": "stream",
     "text": [
      "Inputs: \n",
      " [[ 1.  -2.   0.  -1. ]\n",
      " [ 0.   1.5 -0.5 -1. ]\n",
      " [-1.   1.   0.5 -1. ]]\n",
      "Weights: \n",
      " [ 1.  -1.   0.   0.5]\n",
      "Targets: \n",
      " [-1 -1  1]\n"
     ]
    }
   ],
   "source": [
    "print(\"Inputs: \\n\", X)\n",
    "print(\"Weights: \\n\", W)\n",
    "print(\"Targets: \\n\", Y)"
   ]
  },
  {
   "cell_type": "code",
   "execution_count": 5,
   "metadata": {
    "id": "vV9oUv8UdK7a"
   },
   "outputs": [],
   "source": [
    "def signum(x):\n",
    "    if x<0:\n",
    "        return -1\n",
    "    else:\n",
    "        return 1"
   ]
  },
  {
   "cell_type": "code",
   "execution_count": 5,
   "metadata": {
    "colab": {
     "base_uri": "https://localhost:8080/"
    },
    "id": "ItfWXewYdK7b",
    "outputId": "a7658af2-8094-4cb3-ab9c-cf2e82b69088"
   },
   "outputs": [
    {
     "name": "stdout",
     "output_type": "stream",
     "text": [
      "\n",
      "End Of Epoch -> 0\n",
      "Net:-> -2.100  F(net):-> -1\n",
      "[ 0.6 -0.4  0.1  0.5]\n",
      "\n",
      "End Of Epoch -> 1\n",
      "Net:-> -1.050  F(net):-> -1\n",
      "[0.2 0.2 0.2 0.5]\n",
      "\n",
      "End Of Epoch -> 2\n",
      "Net:-> -0.400  F(net):-> -1\n",
      "[5.55111512e-17 4.00000000e-01 3.00000000e-01 3.00000000e-01]\n",
      "\n",
      "End Of Epoch -> 3\n",
      "Net:-> -0.200  F(net):-> -1\n",
      "[-0.2  0.3  0.5  0.3]\n",
      "\n",
      "End Of Epoch -> 4\n",
      "Net:-> 0.450  F(net):-> 1\n",
      "[-0.2  0.3  0.5  0.3]\n"
     ]
    }
   ],
   "source": [
    "\n",
    "for t in range(epoch):\n",
    "    total_error = 0\n",
    "    for (i, x) in enumerate(X):\n",
    "        y = Y[i]\n",
    "\n",
    "        net = np.dot(x, W)\n",
    "        # print(\"Net: \", net)\n",
    "\n",
    "        fnet = signum(net)\n",
    "        # print(\"F(net): \", fnet)\n",
    "        \n",
    "\n",
    "        delW =c*(np.dot(y - fnet, x))\n",
    "\n",
    "        W += delW\n",
    "\n",
    "    print(f\"\\nEnd Of Epoch -> {t}\")\n",
    "    print(f\"Net:-> {net:.3f}  F(net):-> {fnet}\")\n",
    "    print(W)\n",
    "\n",
    "\n",
    "# error_df = pd.DataFrame(error)\n",
    "\n",
    "# print(\"Errors: \\n\", error_df)\n"
   ]
  },
  {
   "cell_type": "markdown",
   "metadata": {
    "id": "WuchwjqJdK7c"
   },
   "source": [
    "# Using Random Function"
   ]
  },
  {
   "cell_type": "code",
   "execution_count": 17,
   "metadata": {
    "id": "EezerejndK7d"
   },
   "outputs": [],
   "source": [
    "X= np.array([ [1, -2, 0, -1], [0, 1.5, -0.5, -1], [-1, 1, 0.5, -1] ], dtype='int64')\n",
    "W = np.random.randint(-2, 2, (4), dtype='int64')\n",
    "W = np.array(W, dtype='float')\n",
    "W = W.T\n",
    "Y = np.array([-1, -1, 1])\n",
    "b = 0\n",
    "epoch = 10\n",
    "c = 0.1"
   ]
  },
  {
   "cell_type": "code",
   "execution_count": 18,
   "metadata": {
    "colab": {
     "base_uri": "https://localhost:8080/"
    },
    "id": "zUteiNKpdK7e",
    "outputId": "fc208a96-f99c-4b1a-bb6e-afcb9b66dce0"
   },
   "outputs": [
    {
     "name": "stdout",
     "output_type": "stream",
     "text": [
      "Inputs: \n",
      " [[ 1 -2  0 -1]\n",
      " [ 0  1  0 -1]\n",
      " [-1  1  0 -1]]\n",
      "Weights: \n",
      " [ 0. -1. -1. -2.]\n",
      "Targets: \n",
      " [-1 -1  1]\n"
     ]
    }
   ],
   "source": [
    "print(\"Inputs: \\n\", X)\n",
    "print(\"Weights: \\n\", W)\n",
    "print(\"Targets: \\n\", Y)"
   ]
  },
  {
   "cell_type": "code",
   "execution_count": 19,
   "metadata": {
    "colab": {
     "base_uri": "https://localhost:8080/"
    },
    "id": "h1ADPvvQdK7f",
    "outputId": "078fc1b7-3084-4291-c2d7-9657aabd91f5"
   },
   "outputs": [
    {
     "name": "stdout",
     "output_type": "stream",
     "text": [
      "\n",
      "End Of Epoch -> 0\n",
      "Net:-> 1.00 F(net):-> 1\n",
      "[-0.2 -0.8 -1.  -1.6]\n",
      "\n",
      "End Of Epoch -> 1\n",
      "Net:-> 1.00 F(net):-> 1\n",
      "[-0.4 -0.6 -1.  -1.2]\n",
      "\n",
      "End Of Epoch -> 2\n",
      "Net:-> 1.00 F(net):-> 1\n",
      "[-0.6 -0.4 -1.  -0.8]\n",
      "\n",
      "End Of Epoch -> 3\n",
      "Net:-> 1.00 F(net):-> 1\n",
      "[-0.8 -0.2 -1.  -0.4]\n",
      "\n",
      "End Of Epoch -> 4\n",
      "Net:-> 1.00 F(net):-> 1\n",
      "[-1.00000000e+00 -5.55111512e-17 -1.00000000e+00 -2.77555756e-16]\n",
      "\n",
      "End Of Epoch -> 5\n",
      "Net:-> 0.60 F(net):-> 1\n",
      "[-1.  -0.2 -1.   0.2]\n",
      "\n",
      "End Of Epoch -> 6\n",
      "Net:-> 0.60 F(net):-> 1\n",
      "[-1.  -0.2 -1.   0.2]\n",
      "\n",
      "End Of Epoch -> 7\n",
      "Net:-> 0.60 F(net):-> 1\n",
      "[-1.  -0.2 -1.   0.2]\n",
      "\n",
      "End Of Epoch -> 8\n",
      "Net:-> 0.60 F(net):-> 1\n",
      "[-1.  -0.2 -1.   0.2]\n",
      "\n",
      "End Of Epoch -> 9\n",
      "Net:-> 0.60 F(net):-> 1\n",
      "[-1.  -0.2 -1.   0.2]\n"
     ]
    }
   ],
   "source": [
    "\n",
    "for t in range(epoch):\n",
    "\n",
    "    for (i, x) in enumerate(X):\n",
    "        y = Y[i]\n",
    "        net = np.dot(x, W)\n",
    "        fnet = signum(net)\n",
    "        delW = c*(np.dot(y - fnet, x)) \n",
    "\n",
    "        W += delW\n",
    "\n",
    "    print(f\"\\nEnd Of Epoch -> {t}\")\n",
    "    print(f\"Net:-> {net:.2f} F(net):-> {fnet}\")\n",
    "    print(W)\n"
   ]
  },
  {
   "cell_type": "markdown",
   "metadata": {
    "id": "sg4rCaZSdK7f"
   },
   "source": [
    "# Testing Model On User Input"
   ]
  },
  {
   "cell_type": "code",
   "execution_count": 41,
   "metadata": {
    "colab": {
     "base_uri": "https://localhost:8080/"
    },
    "id": "kejEW_R5dK7g",
    "outputId": "ca788244-d629-4fb8-dbfc-4ffceb35bac4"
   },
   "outputs": [],
   "source": [
    "\n",
    "# X = [[int(input(\"Enter Inputs: \")) for j in range(4) ] for i in range(3) ]\n",
    "\n",
    "X = [float(input(\"Enter Inputs: \")) for i in range(4)]\n",
    "X = np.array(X)\n",
    "\n",
    "Target = np.array([-1, -1, 1])\n",
    "# W = np.array([-0.2,  0.3,  0.5,  0.3])\n",
    "W = np.array([-1, -0.2, -1, 0.2])\n",
    "W = W.T\n"
   ]
  },
  {
   "cell_type": "code",
   "execution_count": 42,
   "metadata": {
    "colab": {
     "base_uri": "https://localhost:8080/"
    },
    "id": "rO7gfPEmdK7g",
    "outputId": "03aab1c6-11ce-4d88-e53f-77ef35a09ec7"
   },
   "outputs": [
    {
     "name": "stdout",
     "output_type": "stream",
     "text": [
      "Input Entered by user:  [ 1. -2.  0. -1.]\n",
      "\n",
      "Weights:  [-1.  -0.2 -1.   0.2]\n"
     ]
    }
   ],
   "source": [
    "print(\"Input Entered by user: \", X)\n",
    "\n",
    "print(\"\\nWeights: \", W)"
   ]
  },
  {
   "cell_type": "code",
   "execution_count": 44,
   "metadata": {
    "colab": {
     "base_uri": "https://localhost:8080/"
    },
    "id": "dfDdWhUKdK7g",
    "outputId": "e7b246ab-c5b8-413d-a40f-fd0350e5ef5c"
   },
   "outputs": [
    {
     "name": "stdout",
     "output_type": "stream",
     "text": [
      "Calculated Output:  -1\n",
      "\n",
      "Expected Outputs:  [-1 -1  1]\n"
     ]
    }
   ],
   "source": [
    "Y = signum(np.dot(X, W))\n",
    "print(\"Calculated Output: \", Y)\n",
    "print(\"\\nExpected Outputs: \", Target)"
   ]
  },
  {
   "cell_type": "markdown",
   "metadata": {},
   "source": [
    "## Conclusion:\n",
    "## Perceptron learning rule was successfully studied and implemented."
   ]
  },
  {
   "cell_type": "markdown",
   "metadata": {},
   "source": []
  }
 ],
 "metadata": {
  "accelerator": "TPU",
  "colab": {
   "name": "expt_4.ipynb",
   "provenance": []
  },
  "interpreter": {
   "hash": "7bb86b0b182b4aa158bb4df4d3b9bc36c4b1b3e9626f37ea630c0865e112ae51"
  },
  "kernelspec": {
   "display_name": "Python 3 (ipykernel)",
   "language": "python",
   "name": "python3"
  },
  "language_info": {
   "codemirror_mode": {
    "name": "ipython",
    "version": 3
   },
   "file_extension": ".py",
   "mimetype": "text/x-python",
   "name": "python",
   "nbconvert_exporter": "python",
   "pygments_lexer": "ipython3",
   "version": "3.9.6"
  }
 },
 "nbformat": 4,
 "nbformat_minor": 1
}
