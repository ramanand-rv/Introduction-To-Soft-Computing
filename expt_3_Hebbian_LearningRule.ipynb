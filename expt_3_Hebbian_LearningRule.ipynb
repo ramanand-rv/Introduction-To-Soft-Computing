{
 "cells": [
  {
   "cell_type": "markdown",
   "metadata": {},
   "source": [
    "# Expt 3"
   ]
  },
  {
   "cell_type": "markdown",
   "metadata": {},
   "source": [
    "## Aim: Implement Hebbian Learning Rule"
   ]
  },
  {
   "cell_type": "code",
   "execution_count": 2,
   "metadata": {},
   "outputs": [],
   "source": [
    "#import dependencies\n",
    "import numpy as np"
   ]
  },
  {
   "cell_type": "code",
   "execution_count": 23,
   "metadata": {},
   "outputs": [],
   "source": [
    "X = np.array([[1, -2, 1.5, 0], [1, -0.5, -2, -1.5], [0, 1, -1, 1.5]])\n",
    "W = np.array([1, -1, 0, 0.5])\n",
    "W = W.T\n",
    "c = 0.1\n",
    "epoch = 10"
   ]
  },
  {
   "cell_type": "code",
   "execution_count": 24,
   "metadata": {},
   "outputs": [
    {
     "name": "stdout",
     "output_type": "stream",
     "text": [
      "Inputs: \n",
      " [[ 1.  -2.   1.5  0. ]\n",
      " [ 1.  -0.5 -2.  -1.5]\n",
      " [ 0.   1.  -1.   1.5]]\n",
      "\n",
      "Weights : \n",
      " [ 1.  -1.   0.   0.5]\n"
     ]
    }
   ],
   "source": [
    "print(\"Inputs: \\n\", X)\n",
    "print(\"\\nWeights : \\n\", W)"
   ]
  },
  {
   "cell_type": "code",
   "execution_count": 6,
   "metadata": {},
   "outputs": [],
   "source": [
    "# signum function\n",
    "def signum(x):\n",
    "    return -1 if x<0 else 1"
   ]
  },
  {
   "cell_type": "code",
   "execution_count": 26,
   "metadata": {},
   "outputs": [
    {
     "name": "stdout",
     "output_type": "stream",
     "text": [
      "\n",
      "Iteration:-> 0\n",
      "W ==> [ 1.2  -1.35  0.05  0.2 ]\n",
      "\n",
      "Iteration:-> 1\n",
      "W ==> [ 1.4 -1.7  0.1 -0.1]\n",
      "\n",
      "Iteration:-> 2\n",
      "W ==> [ 1.6  -2.05  0.15 -0.4 ]\n",
      "\n",
      "Iteration:-> 3\n",
      "W ==> [ 1.8 -2.4  0.2 -0.7]\n",
      "\n",
      "Iteration:-> 4\n",
      "W ==> [ 2.   -2.75  0.25 -1.  ]\n",
      "\n",
      "Iteration:-> 5\n",
      "W ==> [ 2.2 -3.1  0.3 -1.3]\n",
      "\n",
      "Iteration:-> 6\n",
      "W ==> [ 2.4  -3.45  0.35 -1.6 ]\n",
      "\n",
      "Iteration:-> 7\n",
      "W ==> [ 2.6 -3.8  0.4 -1.9]\n",
      "\n",
      "Iteration:-> 8\n",
      "W ==> [ 2.8  -4.15  0.45 -2.2 ]\n",
      "\n",
      "Iteration:-> 9\n",
      "W ==> [ 3.  -4.5  0.5 -2.5]\n"
     ]
    }
   ],
   "source": [
    "for t in range(epoch):\n",
    "        for (i, x) in enumerate(X):\n",
    "            net = np.dot(x, W)\n",
    "            fnet = signum(net)\n",
    "\n",
    "            delW = np.dot(x, c*fnet)\n",
    "            W += delW\n",
    "            \n",
    "        print(f\"\\nIteration:-> {t}\")\n",
    "        print(\"W ==>\", W)\n",
    "        # print(\"▽W ==>\", delW)\n"
   ]
  },
  {
   "cell_type": "markdown",
   "metadata": {},
   "source": [
    "# Using random Weignt initialization "
   ]
  },
  {
   "cell_type": "code",
   "execution_count": 8,
   "metadata": {},
   "outputs": [],
   "source": [
    "X = np.array([[1, -2, 1.5, 0], [1, -0.5, -2, -1.5], [0, 1, -1, 1.5]], dtype = 'int64')\n",
    "W = np.random.randint(-1, 1, (4), dtype='int64')\n",
    "W = np.array(W)\n",
    "W = W.T\n",
    "c = 1\n",
    "epoch = 10"
   ]
  },
  {
   "cell_type": "code",
   "execution_count": 9,
   "metadata": {},
   "outputs": [
    {
     "name": "stdout",
     "output_type": "stream",
     "text": [
      "[ 0 -1  0 -1]\n"
     ]
    }
   ],
   "source": [
    "print(W)"
   ]
  },
  {
   "cell_type": "code",
   "execution_count": 10,
   "metadata": {},
   "outputs": [
    {
     "name": "stdout",
     "output_type": "stream",
     "text": [
      "\n",
      "Iteration:->  0\n",
      "W ==> [ 2 -4  0 -3]\n",
      "\n",
      "Iteration:->  1\n",
      "W ==> [ 4 -7  0 -5]\n",
      "\n",
      "Iteration:->  2\n",
      "W ==> [  6 -10   0  -7]\n",
      "\n",
      "Iteration:->  3\n",
      "W ==> [  8 -13   0  -9]\n",
      "\n",
      "Iteration:->  4\n",
      "W ==> [ 10 -16   0 -11]\n",
      "\n",
      "Iteration:->  5\n",
      "W ==> [ 12 -19   0 -13]\n",
      "\n",
      "Iteration:->  6\n",
      "W ==> [ 14 -22   0 -15]\n",
      "\n",
      "Iteration:->  7\n",
      "W ==> [ 16 -25   0 -17]\n",
      "\n",
      "Iteration:->  8\n",
      "W ==> [ 18 -28   0 -19]\n",
      "\n",
      "Iteration:->  9\n",
      "W ==> [ 20 -31   0 -21]\n"
     ]
    }
   ],
   "source": [
    "for t in range(epoch):\n",
    "        for (i, x) in enumerate(X):\n",
    "            net = np.dot(x, W)\n",
    "            fnet = signum(net)\n",
    "\n",
    "            delW = c*(np.dot(x, fnet))\n",
    "            W += delW\n",
    "            \n",
    "        print(\"\\nIteration:-> \", t)\n",
    "        print(\"W ==>\", W)"
   ]
  },
  {
   "cell_type": "markdown",
   "metadata": {},
   "source": [
    "## Trained weights after 10 iterations:\n",
    "### [ 20 -31   0 -21]"
   ]
  },
  {
   "cell_type": "code",
   "execution_count": null,
   "metadata": {},
   "outputs": [],
   "source": []
  },
  {
   "cell_type": "markdown",
   "metadata": {},
   "source": [
    "## Conclusion:\n",
    "## Hebbian learning rule was successfully studied and implemented"
   ]
  }
 ],
 "metadata": {
  "interpreter": {
   "hash": "7bb86b0b182b4aa158bb4df4d3b9bc36c4b1b3e9626f37ea630c0865e112ae51"
  },
  "kernelspec": {
   "display_name": "Python 3 (ipykernel)",
   "language": "python",
   "name": "python3"
  },
  "language_info": {
   "codemirror_mode": {
    "name": "ipython",
    "version": 3
   },
   "file_extension": ".py",
   "mimetype": "text/x-python",
   "name": "python",
   "nbconvert_exporter": "python",
   "pygments_lexer": "ipython3",
   "version": "3.9.6"
  }
 },
 "nbformat": 4,
 "nbformat_minor": 2
}
